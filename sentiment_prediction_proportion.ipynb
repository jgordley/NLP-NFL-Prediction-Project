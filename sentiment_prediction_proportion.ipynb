{
 "cells": [
  {
   "cell_type": "code",
   "execution_count": 1,
   "metadata": {},
   "outputs": [],
   "source": [
    "from sklearn.preprocessing import MinMaxScaler\n",
    "from sklearn.model_selection import train_test_split\n",
    "from sklearn.neighbors import KNeighborsClassifier\n",
    "from sklearn import metrics\n",
    "import collections\n",
    "import json\n",
    "import pandas as pd\n",
    "from tqdm import tqdm\n",
    "from naive_bayes_sentiment_classifier import get_naive_bayes_info, naive_bayes_predict"
   ]
  },
  {
   "cell_type": "code",
   "execution_count": 2,
   "metadata": {},
   "outputs": [
    {
     "data": {
      "text/html": [
       "<div>\n",
       "<style scoped>\n",
       "    .dataframe tbody tr th:only-of-type {\n",
       "        vertical-align: middle;\n",
       "    }\n",
       "\n",
       "    .dataframe tbody tr th {\n",
       "        vertical-align: top;\n",
       "    }\n",
       "\n",
       "    .dataframe thead th {\n",
       "        text-align: right;\n",
       "    }\n",
       "</style>\n",
       "<table border=\"1\" class=\"dataframe\">\n",
       "  <thead>\n",
       "    <tr style=\"text-align: right;\">\n",
       "      <th></th>\n",
       "      <th>home</th>\n",
       "      <th>away</th>\n",
       "      <th>week</th>\n",
       "      <th>home_pass</th>\n",
       "      <th>away_pass</th>\n",
       "      <th>home_rush</th>\n",
       "      <th>away_rush</th>\n",
       "      <th>home_points</th>\n",
       "      <th>away_points</th>\n",
       "      <th>home_turnover</th>\n",
       "      <th>away_turnover</th>\n",
       "      <th>home_win</th>\n",
       "    </tr>\n",
       "  </thead>\n",
       "  <tbody>\n",
       "    <tr>\n",
       "      <th>0</th>\n",
       "      <td>MIN</td>\n",
       "      <td>JAX</td>\n",
       "      <td>1</td>\n",
       "      <td>184.8</td>\n",
       "      <td>136.2</td>\n",
       "      <td>144.9</td>\n",
       "      <td>123.1</td>\n",
       "      <td>21.3</td>\n",
       "      <td>15.2</td>\n",
       "      <td>-0.2</td>\n",
       "      <td>0.3</td>\n",
       "      <td>1</td>\n",
       "    </tr>\n",
       "    <tr>\n",
       "      <th>1</th>\n",
       "      <td>KC</td>\n",
       "      <td>ATL</td>\n",
       "      <td>1</td>\n",
       "      <td>192.5</td>\n",
       "      <td>257.4</td>\n",
       "      <td>118.3</td>\n",
       "      <td>111.6</td>\n",
       "      <td>13.3</td>\n",
       "      <td>23.8</td>\n",
       "      <td>-0.1</td>\n",
       "      <td>0.5</td>\n",
       "      <td>0</td>\n",
       "    </tr>\n",
       "    <tr>\n",
       "      <th>2</th>\n",
       "      <td>NYG</td>\n",
       "      <td>DAL</td>\n",
       "      <td>1</td>\n",
       "      <td>293.9</td>\n",
       "      <td>262.6</td>\n",
       "      <td>94.7</td>\n",
       "      <td>112.9</td>\n",
       "      <td>24.8</td>\n",
       "      <td>23.1</td>\n",
       "      <td>0.7</td>\n",
       "      <td>0.3</td>\n",
       "      <td>0</td>\n",
       "    </tr>\n",
       "    <tr>\n",
       "      <th>3</th>\n",
       "      <td>NO</td>\n",
       "      <td>WAS</td>\n",
       "      <td>1</td>\n",
       "      <td>346.7</td>\n",
       "      <td>235.8</td>\n",
       "      <td>129.5</td>\n",
       "      <td>100.9</td>\n",
       "      <td>34.7</td>\n",
       "      <td>18.0</td>\n",
       "      <td>-0.4</td>\n",
       "      <td>-0.9</td>\n",
       "      <td>0</td>\n",
       "    </tr>\n",
       "    <tr>\n",
       "      <th>4</th>\n",
       "      <td>OAK</td>\n",
       "      <td>SD</td>\n",
       "      <td>1</td>\n",
       "      <td>247.6</td>\n",
       "      <td>276.6</td>\n",
       "      <td>131.9</td>\n",
       "      <td>116.5</td>\n",
       "      <td>22.4</td>\n",
       "      <td>25.4</td>\n",
       "      <td>-0.3</td>\n",
       "      <td>-0.4</td>\n",
       "      <td>0</td>\n",
       "    </tr>\n",
       "  </tbody>\n",
       "</table>\n",
       "</div>"
      ],
      "text/plain": [
       "  home away  week  home_pass  away_pass  home_rush  away_rush  home_points  \\\n",
       "0  MIN  JAX     1      184.8      136.2      144.9      123.1         21.3   \n",
       "1   KC  ATL     1      192.5      257.4      118.3      111.6         13.3   \n",
       "2  NYG  DAL     1      293.9      262.6       94.7      112.9         24.8   \n",
       "3   NO  WAS     1      346.7      235.8      129.5      100.9         34.7   \n",
       "4  OAK   SD     1      247.6      276.6      131.9      116.5         22.4   \n",
       "\n",
       "   away_points  home_turnover  away_turnover  home_win  \n",
       "0         15.2           -0.2            0.3         1  \n",
       "1         23.8           -0.1            0.5         0  \n",
       "2         23.1            0.7            0.3         0  \n",
       "3         18.0           -0.4           -0.9         0  \n",
       "4         25.4           -0.3           -0.4         0  "
      ]
     },
     "execution_count": 2,
     "metadata": {},
     "output_type": "execute_result"
    }
   ],
   "source": [
    "all_game_df = pd.read_csv('all_game_data.csv')\n",
    "all_game_df.head()"
   ]
  },
  {
   "cell_type": "code",
   "execution_count": 3,
   "metadata": {},
   "outputs": [],
   "source": [
    "with open('tweet_ids_0_to_930000') as json_file:\n",
    "    tweet_id_to_text = json.load(json_file)"
   ]
  },
  {
   "cell_type": "code",
   "execution_count": 4,
   "metadata": {},
   "outputs": [
    {
     "data": {
      "text/plain": [
       "'RT @Dock_El_S_D: @hippyhoppin Molina is the #Cardinals MVP. No doubts about that my man.'"
      ]
     },
     "execution_count": 4,
     "metadata": {},
     "output_type": "execute_result"
    }
   ],
   "source": [
    "tweet_id_to_text['240817713533026304']"
   ]
  },
  {
   "cell_type": "code",
   "execution_count": 5,
   "metadata": {},
   "outputs": [
    {
     "name": "stdout",
     "output_type": "stream",
     "text": [
      "0.0\n",
      "9086\n",
      "Naive Bayes accuracy = 0.9940\n"
     ]
    }
   ],
   "source": [
    "log_prior, log_likelihood = get_naive_bayes_info()"
   ]
  },
  {
   "cell_type": "code",
   "execution_count": 6,
   "metadata": {},
   "outputs": [
    {
     "name": "stdout",
     "output_type": "stream",
     "text": [
      "0.31764588430850155\n"
     ]
    }
   ],
   "source": [
    "p = naive_bayes_predict(tweet_id_to_text['240817713533026304'], log_prior, log_likelihood)\n",
    "print(p)"
   ]
  },
  {
   "cell_type": "code",
   "execution_count": 7,
   "metadata": {},
   "outputs": [],
   "source": [
    "keys = pd.read_csv('nfl-tweets-v1.0/tweets.key.csv')\n",
    "df = pd.read_csv('nfl-tweets-v1.0/tweets.nfl.2012.weekly.csv', names=list(keys))"
   ]
  },
  {
   "cell_type": "code",
   "execution_count": 8,
   "metadata": {},
   "outputs": [
    {
     "data": {
      "text/html": [
       "<div>\n",
       "<style scoped>\n",
       "    .dataframe tbody tr th:only-of-type {\n",
       "        vertical-align: middle;\n",
       "    }\n",
       "\n",
       "    .dataframe tbody tr th {\n",
       "        vertical-align: top;\n",
       "    }\n",
       "\n",
       "    .dataframe thead th {\n",
       "        text-align: right;\n",
       "    }\n",
       "</style>\n",
       "<table border=\"1\" class=\"dataframe\">\n",
       "  <thead>\n",
       "    <tr style=\"text-align: right;\">\n",
       "      <th></th>\n",
       "      <th>tweet_id</th>\n",
       "      <th>tweet_UTCtime</th>\n",
       "      <th>team</th>\n",
       "      <th>opponent</th>\n",
       "      <th>week</th>\n",
       "      <th>home_away</th>\n",
       "      <th>score</th>\n",
       "      <th>opponent_score</th>\n",
       "      <th>point_spread</th>\n",
       "      <th>over_under</th>\n",
       "    </tr>\n",
       "  </thead>\n",
       "  <tbody>\n",
       "    <tr>\n",
       "      <th>0</th>\n",
       "      <td>240600003763113984</td>\n",
       "      <td>2012-08-29T00:01:25</td>\n",
       "      <td>DAL</td>\n",
       "      <td>NYG</td>\n",
       "      <td>1</td>\n",
       "      <td>AWAY</td>\n",
       "      <td>24</td>\n",
       "      <td>17</td>\n",
       "      <td>3.0</td>\n",
       "      <td>47.0</td>\n",
       "    </tr>\n",
       "    <tr>\n",
       "      <th>1</th>\n",
       "      <td>240600016358604801</td>\n",
       "      <td>2012-08-29T00:01:28</td>\n",
       "      <td>TB</td>\n",
       "      <td>CAR</td>\n",
       "      <td>1</td>\n",
       "      <td>HOME</td>\n",
       "      <td>16</td>\n",
       "      <td>10</td>\n",
       "      <td>2.5</td>\n",
       "      <td>47.0</td>\n",
       "    </tr>\n",
       "    <tr>\n",
       "      <th>2</th>\n",
       "      <td>240600029197398016</td>\n",
       "      <td>2012-08-29T00:01:31</td>\n",
       "      <td>PHI</td>\n",
       "      <td>CLE</td>\n",
       "      <td>1</td>\n",
       "      <td>AWAY</td>\n",
       "      <td>17</td>\n",
       "      <td>16</td>\n",
       "      <td>-9.0</td>\n",
       "      <td>42.0</td>\n",
       "    </tr>\n",
       "    <tr>\n",
       "      <th>3</th>\n",
       "      <td>240600071073308672</td>\n",
       "      <td>2012-08-29T00:01:42</td>\n",
       "      <td>CHI</td>\n",
       "      <td>IND</td>\n",
       "      <td>1</td>\n",
       "      <td>HOME</td>\n",
       "      <td>41</td>\n",
       "      <td>21</td>\n",
       "      <td>-9.5</td>\n",
       "      <td>41.5</td>\n",
       "    </tr>\n",
       "    <tr>\n",
       "      <th>4</th>\n",
       "      <td>240600083685588993</td>\n",
       "      <td>2012-08-29T00:01:44</td>\n",
       "      <td>NYG</td>\n",
       "      <td>DAL</td>\n",
       "      <td>1</td>\n",
       "      <td>HOME</td>\n",
       "      <td>17</td>\n",
       "      <td>24</td>\n",
       "      <td>-3.0</td>\n",
       "      <td>47.0</td>\n",
       "    </tr>\n",
       "  </tbody>\n",
       "</table>\n",
       "</div>"
      ],
      "text/plain": [
       "             tweet_id        tweet_UTCtime team opponent  week home_away  \\\n",
       "0  240600003763113984  2012-08-29T00:01:25  DAL      NYG     1      AWAY   \n",
       "1  240600016358604801  2012-08-29T00:01:28   TB      CAR     1      HOME   \n",
       "2  240600029197398016  2012-08-29T00:01:31  PHI      CLE     1      AWAY   \n",
       "3  240600071073308672  2012-08-29T00:01:42  CHI      IND     1      HOME   \n",
       "4  240600083685588993  2012-08-29T00:01:44  NYG      DAL     1      HOME   \n",
       "\n",
       "   score  opponent_score  point_spread  over_under  \n",
       "0     24              17           3.0        47.0  \n",
       "1     16              10           2.5        47.0  \n",
       "2     17              16          -9.0        42.0  \n",
       "3     41              21          -9.5        41.5  \n",
       "4     17              24          -3.0        47.0  "
      ]
     },
     "execution_count": 8,
     "metadata": {},
     "output_type": "execute_result"
    }
   ],
   "source": [
    "df.head()"
   ]
  },
  {
   "cell_type": "code",
   "execution_count": 9,
   "metadata": {},
   "outputs": [],
   "source": [
    "home_tweets = df.loc[df['home_away'] == 'HOME']\n",
    "away_tweets = df.loc[df['home_away'] == 'AWAY']"
   ]
  },
  {
   "cell_type": "code",
   "execution_count": 10,
   "metadata": {},
   "outputs": [
    {
     "name": "stderr",
     "output_type": "stream",
     "text": [
      "100%|██████████| 496593/496593 [02:05<00:00, 3970.66it/s]\n"
     ]
    }
   ],
   "source": [
    "# Get home team tweet aggregates\n",
    "game_sentiment_home_positive = collections.defaultdict(int)\n",
    "game_sentiment_home_negative = collections.defaultdict(int)\n",
    "home_teams = list(home_tweets['team'])\n",
    "away_teams = list(home_tweets['opponent'])\n",
    "tweet_ids = list(map(str, home_tweets['tweet_id']))\n",
    "weeks = list(home_tweets['week'])\n",
    "\n",
    "for i in tqdm(range(len(tweet_ids))):\n",
    "    home_team = home_teams[i]\n",
    "    away_team = away_teams[i]\n",
    "    week = weeks[i]\n",
    "    tweet_id = tweet_ids[i]\n",
    "\n",
    "    tweet_text = tweet_id_to_text.get(tweet_id, 0)\n",
    "    if tweet_text:\n",
    "        p = naive_bayes_predict(tweet_text, log_prior, log_likelihood)\n",
    "        if p > 0:\n",
    "            p = 1\n",
    "            game_sentiment_home_positive[(home_team, away_team, week)] += 1\n",
    "        elif p < 0:\n",
    "            p = -1\n",
    "            game_sentiment_home_negative[(home_team, away_team, week)] += 1"
   ]
  },
  {
   "cell_type": "code",
   "execution_count": 11,
   "metadata": {},
   "outputs": [
    {
     "name": "stderr",
     "output_type": "stream",
     "text": [
      "100%|██████████| 501520/501520 [02:08<00:00, 3905.46it/s]\n"
     ]
    }
   ],
   "source": [
    "# Get home team tweet aggregates\n",
    "game_sentiment_away_positive = collections.defaultdict(int)\n",
    "game_sentiment_away_negative = collections.defaultdict(int)\n",
    "home_teams = list(away_tweets['opponent'])\n",
    "away_teams = list(away_tweets['team'])\n",
    "tweet_ids = list(map(str, away_tweets['tweet_id']))\n",
    "weeks = list(away_tweets['week'])\n",
    "\n",
    "for i in tqdm(range(len(tweet_ids))):\n",
    "    home_team = home_teams[i]\n",
    "    away_team = away_teams[i]\n",
    "    week = weeks[i]\n",
    "    tweet_id = tweet_ids[i]\n",
    "\n",
    "    tweet_text = tweet_id_to_text.get(tweet_id, 0)\n",
    "    if tweet_text:\n",
    "        p = naive_bayes_predict(tweet_text, log_prior, log_likelihood)\n",
    "        if p > 0:\n",
    "            p = 1\n",
    "            game_sentiment_away_positive[(home_team, away_team, week)] += 1\n",
    "        elif p < 0:\n",
    "            p = -1\n",
    "            game_sentiment_away_negative[(home_team, away_team, week)] += 1"
   ]
  },
  {
   "cell_type": "code",
   "execution_count": 12,
   "metadata": {},
   "outputs": [
    {
     "name": "stdout",
     "output_type": "stream",
     "text": [
      "707\n",
      "1467\n",
      "2280\n",
      "2194\n"
     ]
    }
   ],
   "source": [
    "print(game_sentiment_home_positive[('CLE', 'PHI', 1)])\n",
    "print(game_sentiment_home_negative[('CLE', 'PHI', 1)])\n",
    "\n",
    "print(game_sentiment_away_positive[('CLE', 'PHI', 1)])\n",
    "print(game_sentiment_away_negative[('CLE', 'PHI', 1)])"
   ]
  },
  {
   "cell_type": "code",
   "execution_count": 15,
   "metadata": {},
   "outputs": [],
   "source": [
    "# Only first 223 values skipping end of season\n",
    "sentiment_df = all_game_df.head(223).copy()"
   ]
  },
  {
   "cell_type": "code",
   "execution_count": 16,
   "metadata": {},
   "outputs": [],
   "source": [
    "sentiment_df['home_sentiment'] = sentiment_df.apply(lambda row: game_sentiment_home_positive[(row.home, row.away, row.week)]/game_sentiment_home_negative[(row.home, row.away, row.week)], axis=1)\n",
    "sentiment_df['away_sentiment'] = sentiment_df.apply(lambda row: game_sentiment_away_positive[(row.home, row.away, row.week)]/game_sentiment_away_negative[(row.home, row.away, row.week)], axis=1)"
   ]
  },
  {
   "cell_type": "code",
   "execution_count": 17,
   "metadata": {},
   "outputs": [
    {
     "data": {
      "text/html": [
       "<div>\n",
       "<style scoped>\n",
       "    .dataframe tbody tr th:only-of-type {\n",
       "        vertical-align: middle;\n",
       "    }\n",
       "\n",
       "    .dataframe tbody tr th {\n",
       "        vertical-align: top;\n",
       "    }\n",
       "\n",
       "    .dataframe thead th {\n",
       "        text-align: right;\n",
       "    }\n",
       "</style>\n",
       "<table border=\"1\" class=\"dataframe\">\n",
       "  <thead>\n",
       "    <tr style=\"text-align: right;\">\n",
       "      <th></th>\n",
       "      <th>home</th>\n",
       "      <th>away</th>\n",
       "      <th>week</th>\n",
       "      <th>home_pass</th>\n",
       "      <th>away_pass</th>\n",
       "      <th>home_rush</th>\n",
       "      <th>away_rush</th>\n",
       "      <th>home_points</th>\n",
       "      <th>away_points</th>\n",
       "      <th>home_turnover</th>\n",
       "      <th>away_turnover</th>\n",
       "      <th>home_win</th>\n",
       "      <th>home_sentiment</th>\n",
       "      <th>away_sentiment</th>\n",
       "    </tr>\n",
       "  </thead>\n",
       "  <tbody>\n",
       "    <tr>\n",
       "      <th>0</th>\n",
       "      <td>MIN</td>\n",
       "      <td>JAX</td>\n",
       "      <td>1</td>\n",
       "      <td>184.8</td>\n",
       "      <td>136.2</td>\n",
       "      <td>144.9</td>\n",
       "      <td>123.1</td>\n",
       "      <td>21.3</td>\n",
       "      <td>15.2</td>\n",
       "      <td>-0.2</td>\n",
       "      <td>0.3</td>\n",
       "      <td>1</td>\n",
       "      <td>2.351744</td>\n",
       "      <td>1.137602</td>\n",
       "    </tr>\n",
       "    <tr>\n",
       "      <th>1</th>\n",
       "      <td>KC</td>\n",
       "      <td>ATL</td>\n",
       "      <td>1</td>\n",
       "      <td>192.5</td>\n",
       "      <td>257.4</td>\n",
       "      <td>118.3</td>\n",
       "      <td>111.6</td>\n",
       "      <td>13.3</td>\n",
       "      <td>23.8</td>\n",
       "      <td>-0.1</td>\n",
       "      <td>0.5</td>\n",
       "      <td>0</td>\n",
       "      <td>1.305769</td>\n",
       "      <td>1.206897</td>\n",
       "    </tr>\n",
       "    <tr>\n",
       "      <th>2</th>\n",
       "      <td>NYG</td>\n",
       "      <td>DAL</td>\n",
       "      <td>1</td>\n",
       "      <td>293.9</td>\n",
       "      <td>262.6</td>\n",
       "      <td>94.7</td>\n",
       "      <td>112.9</td>\n",
       "      <td>24.8</td>\n",
       "      <td>23.1</td>\n",
       "      <td>0.7</td>\n",
       "      <td>0.3</td>\n",
       "      <td>0</td>\n",
       "      <td>0.543384</td>\n",
       "      <td>1.131638</td>\n",
       "    </tr>\n",
       "    <tr>\n",
       "      <th>3</th>\n",
       "      <td>NO</td>\n",
       "      <td>WAS</td>\n",
       "      <td>1</td>\n",
       "      <td>346.7</td>\n",
       "      <td>235.8</td>\n",
       "      <td>129.5</td>\n",
       "      <td>100.9</td>\n",
       "      <td>34.7</td>\n",
       "      <td>18.0</td>\n",
       "      <td>-0.4</td>\n",
       "      <td>-0.9</td>\n",
       "      <td>0</td>\n",
       "      <td>1.155450</td>\n",
       "      <td>1.104220</td>\n",
       "    </tr>\n",
       "    <tr>\n",
       "      <th>4</th>\n",
       "      <td>OAK</td>\n",
       "      <td>SD</td>\n",
       "      <td>1</td>\n",
       "      <td>247.6</td>\n",
       "      <td>276.6</td>\n",
       "      <td>131.9</td>\n",
       "      <td>116.5</td>\n",
       "      <td>22.4</td>\n",
       "      <td>25.4</td>\n",
       "      <td>-0.3</td>\n",
       "      <td>-0.4</td>\n",
       "      <td>0</td>\n",
       "      <td>1.012127</td>\n",
       "      <td>1.651613</td>\n",
       "    </tr>\n",
       "  </tbody>\n",
       "</table>\n",
       "</div>"
      ],
      "text/plain": [
       "  home away  week  home_pass  away_pass  home_rush  away_rush  home_points  \\\n",
       "0  MIN  JAX     1      184.8      136.2      144.9      123.1         21.3   \n",
       "1   KC  ATL     1      192.5      257.4      118.3      111.6         13.3   \n",
       "2  NYG  DAL     1      293.9      262.6       94.7      112.9         24.8   \n",
       "3   NO  WAS     1      346.7      235.8      129.5      100.9         34.7   \n",
       "4  OAK   SD     1      247.6      276.6      131.9      116.5         22.4   \n",
       "\n",
       "   away_points  home_turnover  away_turnover  home_win  home_sentiment  \\\n",
       "0         15.2           -0.2            0.3         1        2.351744   \n",
       "1         23.8           -0.1            0.5         0        1.305769   \n",
       "2         23.1            0.7            0.3         0        0.543384   \n",
       "3         18.0           -0.4           -0.9         0        1.155450   \n",
       "4         25.4           -0.3           -0.4         0        1.012127   \n",
       "\n",
       "   away_sentiment  \n",
       "0        1.137602  \n",
       "1        1.206897  \n",
       "2        1.131638  \n",
       "3        1.104220  \n",
       "4        1.651613  "
      ]
     },
     "execution_count": 17,
     "metadata": {},
     "output_type": "execute_result"
    }
   ],
   "source": [
    "sentiment_df.head()"
   ]
  },
  {
   "cell_type": "code",
   "execution_count": 18,
   "metadata": {},
   "outputs": [],
   "source": [
    "sentiment_only_df = sentiment_df.copy()\n",
    "sentiment_only_df = sentiment_only_df.drop(['week','home', 'away', 'home_pass', 'away_pass', 'home_rush', 'away_rush', 'home_points', 'away_points', 'home_turnover', 'away_turnover'], axis=1)"
   ]
  },
  {
   "cell_type": "code",
   "execution_count": 19,
   "metadata": {},
   "outputs": [
    {
     "data": {
      "text/html": [
       "<div>\n",
       "<style scoped>\n",
       "    .dataframe tbody tr th:only-of-type {\n",
       "        vertical-align: middle;\n",
       "    }\n",
       "\n",
       "    .dataframe tbody tr th {\n",
       "        vertical-align: top;\n",
       "    }\n",
       "\n",
       "    .dataframe thead th {\n",
       "        text-align: right;\n",
       "    }\n",
       "</style>\n",
       "<table border=\"1\" class=\"dataframe\">\n",
       "  <thead>\n",
       "    <tr style=\"text-align: right;\">\n",
       "      <th></th>\n",
       "      <th>home_win</th>\n",
       "      <th>home_sentiment</th>\n",
       "      <th>away_sentiment</th>\n",
       "    </tr>\n",
       "  </thead>\n",
       "  <tbody>\n",
       "    <tr>\n",
       "      <th>0</th>\n",
       "      <td>1</td>\n",
       "      <td>2.351744</td>\n",
       "      <td>1.137602</td>\n",
       "    </tr>\n",
       "    <tr>\n",
       "      <th>1</th>\n",
       "      <td>0</td>\n",
       "      <td>1.305769</td>\n",
       "      <td>1.206897</td>\n",
       "    </tr>\n",
       "    <tr>\n",
       "      <th>2</th>\n",
       "      <td>0</td>\n",
       "      <td>0.543384</td>\n",
       "      <td>1.131638</td>\n",
       "    </tr>\n",
       "    <tr>\n",
       "      <th>3</th>\n",
       "      <td>0</td>\n",
       "      <td>1.155450</td>\n",
       "      <td>1.104220</td>\n",
       "    </tr>\n",
       "    <tr>\n",
       "      <th>4</th>\n",
       "      <td>0</td>\n",
       "      <td>1.012127</td>\n",
       "      <td>1.651613</td>\n",
       "    </tr>\n",
       "  </tbody>\n",
       "</table>\n",
       "</div>"
      ],
      "text/plain": [
       "   home_win  home_sentiment  away_sentiment\n",
       "0         1        2.351744        1.137602\n",
       "1         0        1.305769        1.206897\n",
       "2         0        0.543384        1.131638\n",
       "3         0        1.155450        1.104220\n",
       "4         0        1.012127        1.651613"
      ]
     },
     "execution_count": 19,
     "metadata": {},
     "output_type": "execute_result"
    }
   ],
   "source": [
    "sentiment_only_df.head()"
   ]
  },
  {
   "cell_type": "code",
   "execution_count": 20,
   "metadata": {},
   "outputs": [
    {
     "data": {
      "text/plain": [
       "(223, 3)"
      ]
     },
     "execution_count": 20,
     "metadata": {},
     "output_type": "execute_result"
    }
   ],
   "source": [
    "scaler = MinMaxScaler()\n",
    "\n",
    "df_scaled = pd.DataFrame(scaler.fit_transform(sentiment_only_df), columns=sentiment_only_df.columns)\n",
    "\n",
    "df_scaled.shape"
   ]
  },
  {
   "cell_type": "code",
   "execution_count": 21,
   "metadata": {},
   "outputs": [],
   "source": [
    "home_win_df = df_scaled.pop('home_win')"
   ]
  },
  {
   "cell_type": "code",
   "execution_count": 22,
   "metadata": {},
   "outputs": [
    {
     "data": {
      "text/plain": [
       "(223,)"
      ]
     },
     "execution_count": 22,
     "metadata": {},
     "output_type": "execute_result"
    }
   ],
   "source": [
    "home_win_df.shape"
   ]
  },
  {
   "cell_type": "code",
   "execution_count": 23,
   "metadata": {},
   "outputs": [
    {
     "data": {
      "text/plain": [
       "(223, 2)"
      ]
     },
     "execution_count": 23,
     "metadata": {},
     "output_type": "execute_result"
    }
   ],
   "source": [
    "df_scaled.shape"
   ]
  },
  {
   "cell_type": "code",
   "execution_count": 24,
   "metadata": {},
   "outputs": [],
   "source": [
    "X_train, X_test, y_train, y_test = train_test_split(df_scaled, home_win_df, test_size=0.2, random_state=4)"
   ]
  },
  {
   "cell_type": "code",
   "execution_count": 25,
   "metadata": {},
   "outputs": [
    {
     "name": "stdout",
     "output_type": "stream",
     "text": [
      "(178, 2)\n",
      "(45, 2)\n"
     ]
    }
   ],
   "source": [
    "print(X_train.shape)\n",
    "print(X_test.shape)"
   ]
  },
  {
   "cell_type": "code",
   "execution_count": 26,
   "metadata": {},
   "outputs": [
    {
     "name": "stdout",
     "output_type": "stream",
     "text": [
      "(178,)\n",
      "(45,)\n"
     ]
    }
   ],
   "source": [
    "print(y_train.shape)\n",
    "print(y_test.shape)"
   ]
  },
  {
   "cell_type": "code",
   "execution_count": 27,
   "metadata": {},
   "outputs": [],
   "source": [
    "k_range = range(1,26)\n",
    "scores = {}\n",
    "scores_list = []\n",
    "for k in k_range:\n",
    "    knn = KNeighborsClassifier(n_neighbors=k)\n",
    "    knn.fit(X_train, y_train)\n",
    "    y_pred = knn.predict(X_test)\n",
    "    scores[k] = metrics.accuracy_score(y_test, y_pred)\n",
    "    scores_list.append(metrics.accuracy_score(y_test, y_pred))"
   ]
  },
  {
   "cell_type": "code",
   "execution_count": 28,
   "metadata": {},
   "outputs": [
    {
     "data": {
      "text/plain": [
       "Text(0, 0.5, 'Testing Accuracy')"
      ]
     },
     "execution_count": 28,
     "metadata": {},
     "output_type": "execute_result"
    },
    {
     "data": {
      "image/png": "[encoded data removed]",
      "text/plain": [
       "<Figure size 432x288 with 1 Axes>"
      ]
     },
     "metadata": {
      "needs_background": "light"
     },
     "output_type": "display_data"
    }
   ],
   "source": [
    "%matplotlib inline\n",
    "import matplotlib.pyplot as plt\n",
    "\n",
    "plt.plot(k_range, scores_list)\n",
    "plt.xlabel('Value of K for KNN')\n",
    "plt.ylabel('Testing Accuracy')"
   ]
  },
  {
   "cell_type": "code",
   "execution_count": 33,
   "metadata": {},
   "outputs": [
    {
     "data": {
      "text/plain": [
       "KNeighborsClassifier(n_neighbors=15)"
      ]
     },
     "execution_count": 33,
     "metadata": {},
     "output_type": "execute_result"
    }
   ],
   "source": [
    "# Final baseline model\n",
    "knn = KNeighborsClassifier(n_neighbors=15)\n",
    "knn.fit(X_train, y_train)"
   ]
  },
  {
   "cell_type": "code",
   "execution_count": 34,
   "metadata": {},
   "outputs": [
    {
     "name": "stdout",
     "output_type": "stream",
     "text": [
      "0.5555555555555556\n"
     ]
    }
   ],
   "source": [
    "# Show accuracy on test set\n",
    "y_pred = knn.predict(X_test)\n",
    "print(metrics.accuracy_score(y_test, y_pred))"
   ]
  },
  {
   "cell_type": "code",
   "execution_count": 35,
   "metadata": {},
   "outputs": [],
   "source": [
    "sentiment_df.drop(['home','away','week'], inplace=True, axis=1)"
   ]
  },
  {
   "cell_type": "code",
   "execution_count": 36,
   "metadata": {},
   "outputs": [
    {
     "data": {
      "text/html": [
       "<div>\n",
       "<style scoped>\n",
       "    .dataframe tbody tr th:only-of-type {\n",
       "        vertical-align: middle;\n",
       "    }\n",
       "\n",
       "    .dataframe tbody tr th {\n",
       "        vertical-align: top;\n",
       "    }\n",
       "\n",
       "    .dataframe thead th {\n",
       "        text-align: right;\n",
       "    }\n",
       "</style>\n",
       "<table border=\"1\" class=\"dataframe\">\n",
       "  <thead>\n",
       "    <tr style=\"text-align: right;\">\n",
       "      <th></th>\n",
       "      <th>home_pass</th>\n",
       "      <th>away_pass</th>\n",
       "      <th>home_rush</th>\n",
       "      <th>away_rush</th>\n",
       "      <th>home_points</th>\n",
       "      <th>away_points</th>\n",
       "      <th>home_turnover</th>\n",
       "      <th>away_turnover</th>\n",
       "      <th>home_win</th>\n",
       "      <th>home_sentiment</th>\n",
       "      <th>away_sentiment</th>\n",
       "    </tr>\n",
       "  </thead>\n",
       "  <tbody>\n",
       "    <tr>\n",
       "      <th>0</th>\n",
       "      <td>184.8</td>\n",
       "      <td>136.2</td>\n",
       "      <td>144.9</td>\n",
       "      <td>123.1</td>\n",
       "      <td>21.3</td>\n",
       "      <td>15.2</td>\n",
       "      <td>-0.2</td>\n",
       "      <td>0.3</td>\n",
       "      <td>1</td>\n",
       "      <td>2.351744</td>\n",
       "      <td>1.137602</td>\n",
       "    </tr>\n",
       "    <tr>\n",
       "      <th>1</th>\n",
       "      <td>192.5</td>\n",
       "      <td>257.4</td>\n",
       "      <td>118.3</td>\n",
       "      <td>111.6</td>\n",
       "      <td>13.3</td>\n",
       "      <td>23.8</td>\n",
       "      <td>-0.1</td>\n",
       "      <td>0.5</td>\n",
       "      <td>0</td>\n",
       "      <td>1.305769</td>\n",
       "      <td>1.206897</td>\n",
       "    </tr>\n",
       "    <tr>\n",
       "      <th>2</th>\n",
       "      <td>293.9</td>\n",
       "      <td>262.6</td>\n",
       "      <td>94.7</td>\n",
       "      <td>112.9</td>\n",
       "      <td>24.8</td>\n",
       "      <td>23.1</td>\n",
       "      <td>0.7</td>\n",
       "      <td>0.3</td>\n",
       "      <td>0</td>\n",
       "      <td>0.543384</td>\n",
       "      <td>1.131638</td>\n",
       "    </tr>\n",
       "    <tr>\n",
       "      <th>3</th>\n",
       "      <td>346.7</td>\n",
       "      <td>235.8</td>\n",
       "      <td>129.5</td>\n",
       "      <td>100.9</td>\n",
       "      <td>34.7</td>\n",
       "      <td>18.0</td>\n",
       "      <td>-0.4</td>\n",
       "      <td>-0.9</td>\n",
       "      <td>0</td>\n",
       "      <td>1.155450</td>\n",
       "      <td>1.104220</td>\n",
       "    </tr>\n",
       "    <tr>\n",
       "      <th>4</th>\n",
       "      <td>247.6</td>\n",
       "      <td>276.6</td>\n",
       "      <td>131.9</td>\n",
       "      <td>116.5</td>\n",
       "      <td>22.4</td>\n",
       "      <td>25.4</td>\n",
       "      <td>-0.3</td>\n",
       "      <td>-0.4</td>\n",
       "      <td>0</td>\n",
       "      <td>1.012127</td>\n",
       "      <td>1.651613</td>\n",
       "    </tr>\n",
       "  </tbody>\n",
       "</table>\n",
       "</div>"
      ],
      "text/plain": [
       "   home_pass  away_pass  home_rush  away_rush  home_points  away_points  \\\n",
       "0      184.8      136.2      144.9      123.1         21.3         15.2   \n",
       "1      192.5      257.4      118.3      111.6         13.3         23.8   \n",
       "2      293.9      262.6       94.7      112.9         24.8         23.1   \n",
       "3      346.7      235.8      129.5      100.9         34.7         18.0   \n",
       "4      247.6      276.6      131.9      116.5         22.4         25.4   \n",
       "\n",
       "   home_turnover  away_turnover  home_win  home_sentiment  away_sentiment  \n",
       "0           -0.2            0.3         1        2.351744        1.137602  \n",
       "1           -0.1            0.5         0        1.305769        1.206897  \n",
       "2            0.7            0.3         0        0.543384        1.131638  \n",
       "3           -0.4           -0.9         0        1.155450        1.104220  \n",
       "4           -0.3           -0.4         0        1.012127        1.651613  "
      ]
     },
     "execution_count": 36,
     "metadata": {},
     "output_type": "execute_result"
    }
   ],
   "source": [
    "sentiment_df.head()"
   ]
  },
  {
   "cell_type": "code",
   "execution_count": 37,
   "metadata": {},
   "outputs": [
    {
     "data": {
      "text/plain": [
       "(223, 11)"
      ]
     },
     "execution_count": 37,
     "metadata": {},
     "output_type": "execute_result"
    }
   ],
   "source": [
    "scaler = MinMaxScaler()\n",
    "\n",
    "df_scaled = pd.DataFrame(scaler.fit_transform(sentiment_df), columns=sentiment_df.columns)\n",
    "\n",
    "df_scaled.shape"
   ]
  },
  {
   "cell_type": "code",
   "execution_count": 38,
   "metadata": {},
   "outputs": [],
   "source": [
    "home_win_df = df_scaled.pop('home_win')"
   ]
  },
  {
   "cell_type": "code",
   "execution_count": 39,
   "metadata": {},
   "outputs": [
    {
     "name": "stdout",
     "output_type": "stream",
     "text": [
      "(223,)\n",
      "(223, 10)\n"
     ]
    }
   ],
   "source": [
    "print(home_win_df.shape)\n",
    "print(df_scaled.shape)"
   ]
  },
  {
   "cell_type": "code",
   "execution_count": 40,
   "metadata": {},
   "outputs": [],
   "source": [
    "X_train, X_test, y_train, y_test = train_test_split(df_scaled, home_win_df, test_size=0.2, random_state=4)"
   ]
  },
  {
   "cell_type": "code",
   "execution_count": 41,
   "metadata": {},
   "outputs": [
    {
     "name": "stdout",
     "output_type": "stream",
     "text": [
      "(178, 10) (45, 10) (178,) (45,)\n"
     ]
    }
   ],
   "source": [
    "print(X_train.shape, X_test.shape, y_train.shape, y_test.shape)"
   ]
  },
  {
   "cell_type": "code",
   "execution_count": 42,
   "metadata": {},
   "outputs": [],
   "source": [
    "k_range = range(1,26)\n",
    "scores = {}\n",
    "scores_list = []\n",
    "for k in k_range:\n",
    "    knn = KNeighborsClassifier(n_neighbors=k)\n",
    "    knn.fit(X_train, y_train)\n",
    "    y_pred = knn.predict(X_test)\n",
    "    scores[k] = metrics.accuracy_score(y_test, y_pred)\n",
    "    scores_list.append(metrics.accuracy_score(y_test, y_pred))"
   ]
  },
  {
   "cell_type": "code",
   "execution_count": 43,
   "metadata": {},
   "outputs": [
    {
     "data": {
      "text/plain": [
       "Text(0, 0.5, 'Testing Accuracy')"
      ]
     },
     "execution_count": 43,
     "metadata": {},
     "output_type": "execute_result"
    },
    {
     "data": {
      "image/png": "[encoded data removed]",
      "text/plain": [
       "<Figure size 432x288 with 1 Axes>"
      ]
     },
     "metadata": {
      "needs_background": "light"
     },
     "output_type": "display_data"
    }
   ],
   "source": [
    "plt.plot(k_range, scores_list)\n",
    "plt.xlabel('Value of K for KNN')\n",
    "plt.ylabel('Testing Accuracy')"
   ]
  },
  {
   "cell_type": "code",
   "execution_count": 44,
   "metadata": {},
   "outputs": [
    {
     "data": {
      "text/plain": [
       "KNeighborsClassifier(n_neighbors=17)"
      ]
     },
     "execution_count": 44,
     "metadata": {},
     "output_type": "execute_result"
    }
   ],
   "source": [
    "# Final baseline model\n",
    "knn = KNeighborsClassifier(n_neighbors=17)\n",
    "knn.fit(X_train, y_train)"
   ]
  },
  {
   "cell_type": "code",
   "execution_count": 45,
   "metadata": {},
   "outputs": [
    {
     "name": "stdout",
     "output_type": "stream",
     "text": [
      "0.6888888888888889\n"
     ]
    }
   ],
   "source": [
    "# Show accuracy on test set\n",
    "y_pred = knn.predict(X_test)\n",
    "print(metrics.accuracy_score(y_test, y_pred))"
   ]
  }
 ],
 "metadata": {
  "interpreter": {
   "hash": "390f374a85f252f80c3c04cc0e2d6994b54e6f179549710bce1173a6155b0bc3"
  },
  "kernelspec": {
   "display_name": "Python 3.9.1 64-bit",
   "language": "python",
   "name": "python3"
  },
  "language_info": {
   "codemirror_mode": {
    "name": "ipython",
    "version": 3
   },
   "file_extension": ".py",
   "mimetype": "text/x-python",
   "name": "python",
   "nbconvert_exporter": "python",
   "pygments_lexer": "ipython3",
   "version": "3.9.1"
  },
  "orig_nbformat": 4
 },
 "nbformat": 4,
 "nbformat_minor": 2
}

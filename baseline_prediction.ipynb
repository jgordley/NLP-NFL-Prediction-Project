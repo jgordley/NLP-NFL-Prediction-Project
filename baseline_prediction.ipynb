{
 "cells": [
  {
   "cell_type": "code",
   "execution_count": 26,
   "metadata": {},
   "outputs": [],
   "source": [
    "from sklearn.preprocessing import MinMaxScaler\n",
    "from sklearn.model_selection import train_test_split\n",
    "from sklearn.neighbors import KNeighborsClassifier\n",
    "from sklearn import metrics\n",
    "import pandas as pd"
   ]
  },
  {
   "cell_type": "code",
   "execution_count": 27,
   "metadata": {},
   "outputs": [
    {
     "data": {
      "text/html": [
       "<div>\n",
       "<style scoped>\n",
       "    .dataframe tbody tr th:only-of-type {\n",
       "        vertical-align: middle;\n",
       "    }\n",
       "\n",
       "    .dataframe tbody tr th {\n",
       "        vertical-align: top;\n",
       "    }\n",
       "\n",
       "    .dataframe thead th {\n",
       "        text-align: right;\n",
       "    }\n",
       "</style>\n",
       "<table border=\"1\" class=\"dataframe\">\n",
       "  <thead>\n",
       "    <tr style=\"text-align: right;\">\n",
       "      <th></th>\n",
       "      <th>home_pass</th>\n",
       "      <th>away_pass</th>\n",
       "      <th>home_rush</th>\n",
       "      <th>away_rush</th>\n",
       "      <th>home_points</th>\n",
       "      <th>away_points</th>\n",
       "      <th>home_turnover</th>\n",
       "      <th>away_turnover</th>\n",
       "      <th>home_win</th>\n",
       "    </tr>\n",
       "  </thead>\n",
       "  <tbody>\n",
       "    <tr>\n",
       "      <th>0</th>\n",
       "      <td>0.347826</td>\n",
       "      <td>0.121479</td>\n",
       "      <td>0.578225</td>\n",
       "      <td>0.548404</td>\n",
       "      <td>0.377778</td>\n",
       "      <td>0.119681</td>\n",
       "      <td>0.520548</td>\n",
       "      <td>0.493151</td>\n",
       "      <td>1.0</td>\n",
       "    </tr>\n",
       "    <tr>\n",
       "      <th>1</th>\n",
       "      <td>0.375494</td>\n",
       "      <td>0.548239</td>\n",
       "      <td>0.464209</td>\n",
       "      <td>0.487234</td>\n",
       "      <td>0.155556</td>\n",
       "      <td>0.348404</td>\n",
       "      <td>0.534247</td>\n",
       "      <td>0.520548</td>\n",
       "      <td>0.0</td>\n",
       "    </tr>\n",
       "    <tr>\n",
       "      <th>2</th>\n",
       "      <td>0.739849</td>\n",
       "      <td>0.566549</td>\n",
       "      <td>0.363052</td>\n",
       "      <td>0.494149</td>\n",
       "      <td>0.475000</td>\n",
       "      <td>0.329787</td>\n",
       "      <td>0.643836</td>\n",
       "      <td>0.493151</td>\n",
       "      <td>0.0</td>\n",
       "    </tr>\n",
       "    <tr>\n",
       "      <th>3</th>\n",
       "      <td>0.929572</td>\n",
       "      <td>0.472183</td>\n",
       "      <td>0.512216</td>\n",
       "      <td>0.430319</td>\n",
       "      <td>0.750000</td>\n",
       "      <td>0.194149</td>\n",
       "      <td>0.493151</td>\n",
       "      <td>0.328767</td>\n",
       "      <td>0.0</td>\n",
       "    </tr>\n",
       "    <tr>\n",
       "      <th>4</th>\n",
       "      <td>0.573482</td>\n",
       "      <td>0.615845</td>\n",
       "      <td>0.522503</td>\n",
       "      <td>0.513298</td>\n",
       "      <td>0.408333</td>\n",
       "      <td>0.390957</td>\n",
       "      <td>0.506849</td>\n",
       "      <td>0.397260</td>\n",
       "      <td>0.0</td>\n",
       "    </tr>\n",
       "  </tbody>\n",
       "</table>\n",
       "</div>"
      ],
      "text/plain": [
       "   home_pass  away_pass  home_rush  away_rush  home_points  away_points  \\\n",
       "0   0.347826   0.121479   0.578225   0.548404     0.377778     0.119681   \n",
       "1   0.375494   0.548239   0.464209   0.487234     0.155556     0.348404   \n",
       "2   0.739849   0.566549   0.363052   0.494149     0.475000     0.329787   \n",
       "3   0.929572   0.472183   0.512216   0.430319     0.750000     0.194149   \n",
       "4   0.573482   0.615845   0.522503   0.513298     0.408333     0.390957   \n",
       "\n",
       "   home_turnover  away_turnover  home_win  \n",
       "0       0.520548       0.493151       1.0  \n",
       "1       0.534247       0.520548       0.0  \n",
       "2       0.643836       0.493151       0.0  \n",
       "3       0.493151       0.328767       0.0  \n",
       "4       0.506849       0.397260       0.0  "
      ]
     },
     "execution_count": 27,
     "metadata": {},
     "output_type": "execute_result"
    }
   ],
   "source": [
    "all_game_df = pd.read_csv('all_game_data.csv')\n",
    "all_game_df.drop(['home', 'away','week'], axis=1, inplace=True)\n",
    "\n",
    "scaler = MinMaxScaler()\n",
    "\n",
    "df_scaled = pd.DataFrame(scaler.fit_transform(all_game_df), columns=all_game_df.columns)\n",
    "\n",
    "df_scaled.head()"
   ]
  },
  {
   "cell_type": "code",
   "execution_count": 28,
   "metadata": {},
   "outputs": [],
   "source": [
    "home_win_df = df_scaled.pop('home_win')"
   ]
  },
  {
   "cell_type": "code",
   "execution_count": 29,
   "metadata": {},
   "outputs": [
    {
     "data": {
      "text/plain": [
       "0    1.0\n",
       "1    0.0\n",
       "2    0.0\n",
       "3    0.0\n",
       "4    0.0\n",
       "Name: home_win, dtype: float64"
      ]
     },
     "execution_count": 29,
     "metadata": {},
     "output_type": "execute_result"
    }
   ],
   "source": [
    "home_win_df.head()"
   ]
  },
  {
   "cell_type": "code",
   "execution_count": 30,
   "metadata": {},
   "outputs": [
    {
     "data": {
      "text/html": [
       "<div>\n",
       "<style scoped>\n",
       "    .dataframe tbody tr th:only-of-type {\n",
       "        vertical-align: middle;\n",
       "    }\n",
       "\n",
       "    .dataframe tbody tr th {\n",
       "        vertical-align: top;\n",
       "    }\n",
       "\n",
       "    .dataframe thead th {\n",
       "        text-align: right;\n",
       "    }\n",
       "</style>\n",
       "<table border=\"1\" class=\"dataframe\">\n",
       "  <thead>\n",
       "    <tr style=\"text-align: right;\">\n",
       "      <th></th>\n",
       "      <th>home_pass</th>\n",
       "      <th>away_pass</th>\n",
       "      <th>home_rush</th>\n",
       "      <th>away_rush</th>\n",
       "      <th>home_points</th>\n",
       "      <th>away_points</th>\n",
       "      <th>home_turnover</th>\n",
       "      <th>away_turnover</th>\n",
       "    </tr>\n",
       "  </thead>\n",
       "  <tbody>\n",
       "    <tr>\n",
       "      <th>0</th>\n",
       "      <td>0.347826</td>\n",
       "      <td>0.121479</td>\n",
       "      <td>0.578225</td>\n",
       "      <td>0.548404</td>\n",
       "      <td>0.377778</td>\n",
       "      <td>0.119681</td>\n",
       "      <td>0.520548</td>\n",
       "      <td>0.493151</td>\n",
       "    </tr>\n",
       "    <tr>\n",
       "      <th>1</th>\n",
       "      <td>0.375494</td>\n",
       "      <td>0.548239</td>\n",
       "      <td>0.464209</td>\n",
       "      <td>0.487234</td>\n",
       "      <td>0.155556</td>\n",
       "      <td>0.348404</td>\n",
       "      <td>0.534247</td>\n",
       "      <td>0.520548</td>\n",
       "    </tr>\n",
       "    <tr>\n",
       "      <th>2</th>\n",
       "      <td>0.739849</td>\n",
       "      <td>0.566549</td>\n",
       "      <td>0.363052</td>\n",
       "      <td>0.494149</td>\n",
       "      <td>0.475000</td>\n",
       "      <td>0.329787</td>\n",
       "      <td>0.643836</td>\n",
       "      <td>0.493151</td>\n",
       "    </tr>\n",
       "    <tr>\n",
       "      <th>3</th>\n",
       "      <td>0.929572</td>\n",
       "      <td>0.472183</td>\n",
       "      <td>0.512216</td>\n",
       "      <td>0.430319</td>\n",
       "      <td>0.750000</td>\n",
       "      <td>0.194149</td>\n",
       "      <td>0.493151</td>\n",
       "      <td>0.328767</td>\n",
       "    </tr>\n",
       "    <tr>\n",
       "      <th>4</th>\n",
       "      <td>0.573482</td>\n",
       "      <td>0.615845</td>\n",
       "      <td>0.522503</td>\n",
       "      <td>0.513298</td>\n",
       "      <td>0.408333</td>\n",
       "      <td>0.390957</td>\n",
       "      <td>0.506849</td>\n",
       "      <td>0.397260</td>\n",
       "    </tr>\n",
       "  </tbody>\n",
       "</table>\n",
       "</div>"
      ],
      "text/plain": [
       "   home_pass  away_pass  home_rush  away_rush  home_points  away_points  \\\n",
       "0   0.347826   0.121479   0.578225   0.548404     0.377778     0.119681   \n",
       "1   0.375494   0.548239   0.464209   0.487234     0.155556     0.348404   \n",
       "2   0.739849   0.566549   0.363052   0.494149     0.475000     0.329787   \n",
       "3   0.929572   0.472183   0.512216   0.430319     0.750000     0.194149   \n",
       "4   0.573482   0.615845   0.522503   0.513298     0.408333     0.390957   \n",
       "\n",
       "   home_turnover  away_turnover  \n",
       "0       0.520548       0.493151  \n",
       "1       0.534247       0.520548  \n",
       "2       0.643836       0.493151  \n",
       "3       0.493151       0.328767  \n",
       "4       0.506849       0.397260  "
      ]
     },
     "execution_count": 30,
     "metadata": {},
     "output_type": "execute_result"
    }
   ],
   "source": [
    "df_scaled.head()"
   ]
  },
  {
   "cell_type": "code",
   "execution_count": 31,
   "metadata": {},
   "outputs": [],
   "source": [
    "X_train, X_test, y_train, y_test = train_test_split(df_scaled, home_win_df, test_size=0.2, random_state=4)"
   ]
  },
  {
   "cell_type": "code",
   "execution_count": 32,
   "metadata": {},
   "outputs": [
    {
     "name": "stdout",
     "output_type": "stream",
     "text": [
      "(192, 8)\n",
      "(48, 8)\n"
     ]
    }
   ],
   "source": [
    "print(X_train.shape)\n",
    "print(X_test.shape)"
   ]
  },
  {
   "cell_type": "code",
   "execution_count": 33,
   "metadata": {},
   "outputs": [
    {
     "name": "stdout",
     "output_type": "stream",
     "text": [
      "(192,)\n",
      "(48,)\n"
     ]
    }
   ],
   "source": [
    "print(y_train.shape)\n",
    "print(y_test.shape)"
   ]
  },
  {
   "cell_type": "code",
   "execution_count": 34,
   "metadata": {},
   "outputs": [],
   "source": [
    "k_range = range(1,26)\n",
    "scores = {}\n",
    "scores_list = []\n",
    "for k in k_range:\n",
    "    knn = KNeighborsClassifier(n_neighbors=k)\n",
    "    knn.fit(X_train, y_train)\n",
    "    y_pred = knn.predict(X_test)\n",
    "    scores[k] = metrics.accuracy_score(y_test, y_pred)\n",
    "    scores_list.append(metrics.accuracy_score(y_test, y_pred))"
   ]
  },
  {
   "cell_type": "code",
   "execution_count": 35,
   "metadata": {},
   "outputs": [
    {
     "data": {
      "text/plain": [
       "Text(0, 0.5, 'Testing Accuracy')"
      ]
     },
     "execution_count": 35,
     "metadata": {},
     "output_type": "execute_result"
    },
    {
     "data": {
      "image/png": "[encoded data removed]",
      "text/plain": [
       "<Figure size 432x288 with 1 Axes>"
      ]
     },
     "metadata": {
      "needs_background": "light"
     },
     "output_type": "display_data"
    }
   ],
   "source": [
    "%matplotlib inline\n",
    "import matplotlib.pyplot as plt\n",
    "\n",
    "plt.plot(k_range, scores_list)\n",
    "plt.xlabel('Value of K for KNN')\n",
    "plt.ylabel('Testing Accuracy')"
   ]
  },
  {
   "cell_type": "code",
   "execution_count": 36,
   "metadata": {},
   "outputs": [
    {
     "data": {
      "text/plain": [
       "KNeighborsClassifier(n_neighbors=18)"
      ]
     },
     "execution_count": 36,
     "metadata": {},
     "output_type": "execute_result"
    }
   ],
   "source": [
    "# Final baseline model\n",
    "knn = KNeighborsClassifier(n_neighbors=18)\n",
    "knn.fit(X_train, y_train)"
   ]
  },
  {
   "cell_type": "code",
   "execution_count": 37,
   "metadata": {},
   "outputs": [
    {
     "name": "stdout",
     "output_type": "stream",
     "text": [
      "0.6458333333333334\n"
     ]
    }
   ],
   "source": [
    "# Show accuracy on test set\n",
    "y_pred = knn.predict(X_test)\n",
    "print(metrics.accuracy_score(y_test, y_pred))"
   ]
  }
 ],
 "metadata": {
  "interpreter": {
   "hash": "390f374a85f252f80c3c04cc0e2d6994b54e6f179549710bce1173a6155b0bc3"
  },
  "kernelspec": {
   "display_name": "Python 3.9.1 64-bit",
   "language": "python",
   "name": "python3"
  },
  "language_info": {
   "codemirror_mode": {
    "name": "ipython",
    "version": 3
   },
   "file_extension": ".py",
   "mimetype": "text/x-python",
   "name": "python",
   "nbconvert_exporter": "python",
   "pygments_lexer": "ipython3",
   "version": "3.9.1"
  },
  "orig_nbformat": 4
 },
 "nbformat": 4,
 "nbformat_minor": 2
}
